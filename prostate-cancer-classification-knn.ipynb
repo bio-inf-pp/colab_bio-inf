{
 "cells": [
  {
   "cell_type": "markdown",
   "id": "5e64bdad",
   "metadata": {
    "papermill": {
     "duration": 0.004663,
     "end_time": "2025-06-07T17:54:18.092254",
     "exception": false,
     "start_time": "2025-06-07T17:54:18.087591",
     "status": "completed"
    },
    "tags": []
   },
   "source": [
    "## 1. Импорт библиотек"
   ]
  },
  {
   "cell_type": "code",
   "execution_count": 1,
   "id": "9c53100c",
   "metadata": {
    "_cell_guid": "b1076dfc-b9ad-4769-8c92-a6c4dae69d19",
    "_uuid": "8f2839f25d086af736a60e9eeb907d3b93b6e0e5",
    "execution": {
     "iopub.execute_input": "2025-06-07T17:54:18.104555Z",
     "iopub.status.busy": "2025-06-07T17:54:18.103571Z",
     "iopub.status.idle": "2025-06-07T17:54:21.570744Z",
     "shell.execute_reply": "2025-06-07T17:54:21.569404Z"
    },
    "papermill": {
     "duration": 3.475757,
     "end_time": "2025-06-07T17:54:21.573426",
     "exception": false,
     "start_time": "2025-06-07T17:54:18.097669",
     "status": "completed"
    },
    "tags": []
   },
   "outputs": [],
   "source": [
    "import numpy as np\n",
    "import pandas as pd\n",
    "import matplotlib.pyplot as plt\n",
    "import seaborn as sns\n",
    "\n",
    "from sklearn.model_selection import train_test_split, GridSearchCV\n",
    "from sklearn.preprocessing import StandardScaler\n",
    "from sklearn.neighbors import KNeighborsClassifier\n",
    "from sklearn.ensemble import RandomForestClassifier\n",
    "from sklearn.metrics import (\n",
    "    confusion_matrix, classification_report, accuracy_score, roc_curve, auc\n",
    ")"
   ]
  },
  {
   "cell_type": "markdown",
   "id": "2ace4856",
   "metadata": {
    "papermill": {
     "duration": 0.003989,
     "end_time": "2025-06-07T17:54:21.581809",
     "exception": false,
     "start_time": "2025-06-07T17:54:21.577820",
     "status": "completed"
    },
    "tags": []
   },
   "source": [
    "## 2. Настройка отображения графиков\n"
   ]
  },
  {
   "cell_type": "code",
   "execution_count": 2,
   "id": "9cd06c27",
   "metadata": {
    "execution": {
     "iopub.execute_input": "2025-06-07T17:54:21.592521Z",
     "iopub.status.busy": "2025-06-07T17:54:21.591911Z",
     "iopub.status.idle": "2025-06-07T17:54:21.600775Z",
     "shell.execute_reply": "2025-06-07T17:54:21.599297Z"
    },
    "papermill": {
     "duration": 0.016895,
     "end_time": "2025-06-07T17:54:21.602934",
     "exception": false,
     "start_time": "2025-06-07T17:54:21.586039",
     "status": "completed"
    },
    "tags": []
   },
   "outputs": [],
   "source": [
    "plt.style.use('ggplot')\n",
    "plt.rcParams['figure.figsize'] = (10, 6)\n",
    "%matplotlib inline"
   ]
  },
  {
   "cell_type": "markdown",
   "id": "a104b4c3",
   "metadata": {
    "papermill": {
     "duration": 0.004301,
     "end_time": "2025-06-07T17:54:21.611645",
     "exception": false,
     "start_time": "2025-06-07T17:54:21.607344",
     "status": "completed"
    },
    "tags": []
   },
   "source": [
    "## 3. Загрузка и первичный анализ данных\n"
   ]
  },
  {
   "cell_type": "code",
   "execution_count": 3,
   "id": "8fdaf9b7",
   "metadata": {
    "execution": {
     "iopub.execute_input": "2025-06-07T17:54:21.622312Z",
     "iopub.status.busy": "2025-06-07T17:54:21.621412Z",
     "iopub.status.idle": "2025-06-07T17:54:21.702974Z",
     "shell.execute_reply": "2025-06-07T17:54:21.701558Z"
    },
    "papermill": {
     "duration": 0.091187,
     "end_time": "2025-06-07T17:54:21.707139",
     "exception": false,
     "start_time": "2025-06-07T17:54:21.615952",
     "status": "completed"
    },
    "tags": []
   },
   "outputs": [
    {
     "name": "stdout",
     "output_type": "stream",
     "text": [
      "Первые 5 строк данных:\n",
      "     lcavol   lweight  age      lbph       lcp  gleason  pgg45      lpsa  \\\n",
      "0 -0.579818  2.769459   50 -1.386294 -1.386294        6      0 -0.430783   \n",
      "1 -0.994252  3.319626   58 -1.386294 -1.386294        6      0 -0.162519   \n",
      "2 -0.510826  2.691243   74 -1.386294 -1.386294        7     20 -0.162519   \n",
      "3 -1.203973  3.282789   58 -1.386294 -1.386294        6      0 -0.162519   \n",
      "4  0.751416  3.432373   62 -1.386294 -1.386294        6      0  0.371564   \n",
      "\n",
      "   Target  \n",
      "0       0  \n",
      "1       0  \n",
      "2       0  \n",
      "3       0  \n",
      "4       0  \n",
      "\n",
      "Информация о данных:\n",
      "<class 'pandas.core.frame.DataFrame'>\n",
      "RangeIndex: 97 entries, 0 to 96\n",
      "Data columns (total 9 columns):\n",
      " #   Column   Non-Null Count  Dtype  \n",
      "---  ------   --------------  -----  \n",
      " 0   lcavol   97 non-null     float64\n",
      " 1   lweight  97 non-null     float64\n",
      " 2   age      97 non-null     int64  \n",
      " 3   lbph     97 non-null     float64\n",
      " 4   lcp      97 non-null     float64\n",
      " 5   gleason  97 non-null     int64  \n",
      " 6   pgg45    97 non-null     int64  \n",
      " 7   lpsa     97 non-null     float64\n",
      " 8   Target   97 non-null     int64  \n",
      "dtypes: float64(5), int64(4)\n",
      "memory usage: 6.9 KB\n",
      "None\n",
      "\n",
      "Описательная статистика:\n",
      "          lcavol    lweight        age       lbph        lcp    gleason  \\\n",
      "count  97.000000  97.000000  97.000000  97.000000  97.000000  97.000000   \n",
      "mean    1.350010   3.628943  63.865979   0.100356  -0.179366   6.752577   \n",
      "std     1.178625   0.428411   7.445117   1.450807   1.398250   0.722134   \n",
      "min    -1.347074   2.374906  41.000000  -1.386294  -1.386294   6.000000   \n",
      "25%     0.512824   3.375880  60.000000  -1.386294  -1.386294   6.000000   \n",
      "50%     1.446919   3.623007  65.000000   0.300105  -0.798508   7.000000   \n",
      "75%     2.127041   3.876396  68.000000   1.558145   1.178655   7.000000   \n",
      "max     3.821004   4.780383  79.000000   2.326302   2.904165   9.000000   \n",
      "\n",
      "            pgg45       lpsa     Target  \n",
      "count   97.000000  97.000000  97.000000  \n",
      "mean    24.381443   2.478387   0.216495  \n",
      "std     28.204035   1.154329   0.413995  \n",
      "min      0.000000  -0.430783   0.000000  \n",
      "25%      0.000000   1.731656   0.000000  \n",
      "50%     15.000000   2.591516   0.000000  \n",
      "75%     40.000000   3.056357   0.000000  \n",
      "max    100.000000   5.582932   1.000000  \n",
      "\n",
      "Проверка на пропущенные значения:\n",
      "lcavol     0\n",
      "lweight    0\n",
      "age        0\n",
      "lbph       0\n",
      "lcp        0\n",
      "gleason    0\n",
      "pgg45      0\n",
      "lpsa       0\n",
      "Target     0\n",
      "dtype: int64\n"
     ]
    }
   ],
   "source": [
    "# Загрузка данных\n",
    "df = pd.read_csv(\"/kaggle/input/prostate-cancer-dataset/prostate.csv\")\n",
    "\n",
    "# Первые 5 строк\n",
    "print(\"Первые 5 строк данных:\")\n",
    "print(df.head())\n",
    "\n",
    "# Информация о данных\n",
    "print(\"\\nИнформация о данных:\")\n",
    "print(df.info())\n",
    "\n",
    "# Описательная статистика\n",
    "print(\"\\nОписательная статистика:\")\n",
    "print(df.describe())\n",
    "\n",
    "# Проверка на пропущенные значения\n",
    "print(\"\\nПроверка на пропущенные значения:\")\n",
    "print(df.isnull().sum())\n"
   ]
  },
  {
   "cell_type": "markdown",
   "id": "f4ac1535",
   "metadata": {
    "papermill": {
     "duration": 0.007123,
     "end_time": "2025-06-07T17:54:21.722137",
     "exception": false,
     "start_time": "2025-06-07T17:54:21.715014",
     "status": "completed"
    },
    "tags": []
   },
   "source": [
    "## 4. Визуализация распределения целевой переменной\n"
   ]
  },
  {
   "cell_type": "code",
   "execution_count": 4,
   "id": "89639485",
   "metadata": {
    "execution": {
     "iopub.execute_input": "2025-06-07T17:54:21.733818Z",
     "iopub.status.busy": "2025-06-07T17:54:21.733402Z",
     "iopub.status.idle": "2025-06-07T17:54:22.002516Z",
     "shell.execute_reply": "2025-06-07T17:54:22.001258Z"
    },
    "papermill": {
     "duration": 0.277864,
     "end_time": "2025-06-07T17:54:22.004831",
     "exception": false,
     "start_time": "2025-06-07T17:54:21.726967",
     "status": "completed"
    },
    "tags": []
   },
   "outputs": [
    {
     "data": {
      "image/png": "[encoded data removed]",
      "text/plain": [
       "<Figure size 800x500 with 1 Axes>"
      ]
     },
     "metadata": {},
     "output_type": "display_data"
    }
   ],
   "source": [
    "plt.figure(figsize=(8, 5))\n",
    "sns.countplot(x='Target', data=df)\n",
    "plt.title('Распределение целевой переменной (Target)')\n",
    "plt.show()"
   ]
  },
  {
   "cell_type": "markdown",
   "id": "62534407",
   "metadata": {
    "papermill": {
     "duration": 0.004518,
     "end_time": "2025-06-07T17:54:22.014232",
     "exception": false,
     "start_time": "2025-06-07T17:54:22.009714",
     "status": "completed"
    },
    "tags": []
   },
   "source": [
    "## 5. Подготовка данных\n"
   ]
  },
  {
   "cell_type": "code",
   "execution_count": 5,
   "id": "f332a0c6",
   "metadata": {
    "execution": {
     "iopub.execute_input": "2025-06-07T17:54:22.025436Z",
     "iopub.status.busy": "2025-06-07T17:54:22.024736Z",
     "iopub.status.idle": "2025-06-07T17:54:22.044337Z",
     "shell.execute_reply": "2025-06-07T17:54:22.043209Z"
    },
    "papermill": {
     "duration": 0.028306,
     "end_time": "2025-06-07T17:54:22.047196",
     "exception": false,
     "start_time": "2025-06-07T17:54:22.018890",
     "status": "completed"
    },
    "tags": []
   },
   "outputs": [],
   "source": [
    "# Разделение на признаки и целевую переменную\n",
    "X = df.drop('Target', axis=1)\n",
    "y = df['Target']\n",
    "\n",
    "# Разделение на тренировочную и тестовую выборки\n",
    "X_train, X_test, y_train, y_test = train_test_split(\n",
    "    X, y, test_size=0.3, random_state=42, stratify=y\n",
    ")\n",
    "\n",
    "# Масштабирование признаков\n",
    "scaler = StandardScaler()\n",
    "X_train_scaled = scaler.fit_transform(X_train)\n",
    "X_test_scaled = scaler.transform(X_test)"
   ]
  },
  {
   "cell_type": "markdown",
   "id": "e3594a9b",
   "metadata": {
    "papermill": {
     "duration": 0.005127,
     "end_time": "2025-06-07T17:54:22.057635",
     "exception": false,
     "start_time": "2025-06-07T17:54:22.052508",
     "status": "completed"
    },
    "tags": []
   },
   "source": [
    "# 6. Модель 1: kNN с подбором гиперпараметров\n"
   ]
  },
  {
   "cell_type": "code",
   "execution_count": 6,
   "id": "fc097051",
   "metadata": {
    "execution": {
     "iopub.execute_input": "2025-06-07T17:54:22.069366Z",
     "iopub.status.busy": "2025-06-07T17:54:22.069025Z",
     "iopub.status.idle": "2025-06-07T17:54:22.766856Z",
     "shell.execute_reply": "2025-06-07T17:54:22.765563Z"
    },
    "papermill": {
     "duration": 0.707639,
     "end_time": "2025-06-07T17:54:22.770282",
     "exception": false,
     "start_time": "2025-06-07T17:54:22.062643",
     "status": "completed"
    },
    "tags": []
   },
   "outputs": [
    {
     "name": "stdout",
     "output_type": "stream",
     "text": [
      "\n",
      "Оптимальное количество соседей (k): 3\n",
      "\n",
      "Оценка модели kNN:\n",
      "Матрица ошибок:\n",
      "[[19  5]\n",
      " [ 3  3]]\n",
      "\n",
      "Отчет о классификации:\n",
      "              precision    recall  f1-score   support\n",
      "\n",
      "           0       0.86      0.79      0.83        24\n",
      "           1       0.38      0.50      0.43         6\n",
      "\n",
      "    accuracy                           0.73        30\n",
      "   macro avg       0.62      0.65      0.63        30\n",
      "weighted avg       0.77      0.73      0.75        30\n",
      "\n",
      "Точность: 0.7333\n"
     ]
    }
   ],
   "source": [
    "# Поиск оптимального k\n",
    "param_grid_knn = {'n_neighbors': np.arange(1, 30)}\n",
    "knn = KNeighborsClassifier()\n",
    "knn_cv = GridSearchCV(knn, param_grid_knn, cv=5)\n",
    "knn_cv.fit(X_train_scaled, y_train)\n",
    "\n",
    "# Лучший параметр\n",
    "best_k = knn_cv.best_params_['n_neighbors']\n",
    "print(f\"\\nОптимальное количество соседей (k): {best_k}\")\n",
    "\n",
    "# Обучение и предсказание\n",
    "knn = KNeighborsClassifier(n_neighbors=best_k)\n",
    "knn.fit(X_train_scaled, y_train)\n",
    "y_pred_knn = knn.predict(X_test_scaled)\n",
    "y_pred_proba_knn = knn.predict_proba(X_test_scaled)[:, 1]\n",
    "\n",
    "# Оценка модели\n",
    "print(\"\\nОценка модели kNN:\")\n",
    "print(\"Матрица ошибок:\")\n",
    "print(confusion_matrix(y_test, y_pred_knn))\n",
    "print(\"\\nОтчет о классификации:\")\n",
    "print(classification_report(y_test, y_pred_knn))\n",
    "print(f\"Точность: {accuracy_score(y_test, y_pred_knn):.4f}\")"
   ]
  },
  {
   "cell_type": "markdown",
   "id": "4bd2d52c",
   "metadata": {
    "papermill": {
     "duration": 0.006311,
     "end_time": "2025-06-07T17:54:22.781753",
     "exception": false,
     "start_time": "2025-06-07T17:54:22.775442",
     "status": "completed"
    },
    "tags": []
   },
   "source": [
    "# 7. Модель 2: Random Forest с подбором гиперпараметров\n"
   ]
  },
  {
   "cell_type": "code",
   "execution_count": 7,
   "id": "4c3180dd",
   "metadata": {
    "execution": {
     "iopub.execute_input": "2025-06-07T17:54:22.793314Z",
     "iopub.status.busy": "2025-06-07T17:54:22.792967Z",
     "iopub.status.idle": "2025-06-07T17:54:40.971663Z",
     "shell.execute_reply": "2025-06-07T17:54:40.970076Z"
    },
    "papermill": {
     "duration": 18.187482,
     "end_time": "2025-06-07T17:54:40.974416",
     "exception": false,
     "start_time": "2025-06-07T17:54:22.786934",
     "status": "completed"
    },
    "tags": []
   },
   "outputs": [
    {
     "name": "stdout",
     "output_type": "stream",
     "text": [
      "\n",
      "Оптимальные параметры для Random Forest:\n",
      "{'max_depth': None, 'min_samples_split': 2, 'n_estimators': 100}\n",
      "\n",
      "Оценка модели Random Forest:\n",
      "Матрица ошибок:\n",
      "[[22  2]\n",
      " [ 3  3]]\n",
      "\n",
      "Отчет о классификации:\n",
      "              precision    recall  f1-score   support\n",
      "\n",
      "           0       0.88      0.92      0.90        24\n",
      "           1       0.60      0.50      0.55         6\n",
      "\n",
      "    accuracy                           0.83        30\n",
      "   macro avg       0.74      0.71      0.72        30\n",
      "weighted avg       0.82      0.83      0.83        30\n",
      "\n",
      "Точность: 0.8333\n"
     ]
    }
   ],
   "source": [
    "param_grid_rf = {\n",
    "    'n_estimators': [50, 100, 200],\n",
    "    'max_depth': [None, 10, 20, 30],\n",
    "    'min_samples_split': [2, 5, 10]\n",
    "}\n",
    "\n",
    "rf = RandomForestClassifier(random_state=42)\n",
    "rf_cv = GridSearchCV(rf, param_grid_rf, cv=5, n_jobs=-1)\n",
    "rf_cv.fit(X_train, y_train)\n",
    "\n",
    "# Лучшие параметры\n",
    "print(\"\\nОптимальные параметры для Random Forest:\")\n",
    "print(rf_cv.best_params_)\n",
    "\n",
    "# Обучение и предсказание\n",
    "rf = RandomForestClassifier(**rf_cv.best_params_, random_state=42)\n",
    "rf.fit(X_train, y_train)\n",
    "y_pred_rf = rf.predict(X_test)\n",
    "y_pred_proba_rf = rf.predict_proba(X_test)[:, 1]\n",
    "\n",
    "# Оценка модели\n",
    "print(\"\\nОценка модели Random Forest:\")\n",
    "print(\"Матрица ошибок:\")\n",
    "print(confusion_matrix(y_test, y_pred_rf))\n",
    "print(\"\\nОтчет о классификации:\")\n",
    "print(classification_report(y_test, y_pred_rf))\n",
    "print(f\"Точность: {accuracy_score(y_test, y_pred_rf):.4f}\")"
   ]
  },
  {
   "cell_type": "markdown",
   "id": "0df3f7f2",
   "metadata": {
    "papermill": {
     "duration": 0.004678,
     "end_time": "2025-06-07T17:54:40.984223",
     "exception": false,
     "start_time": "2025-06-07T17:54:40.979545",
     "status": "completed"
    },
    "tags": []
   },
   "source": [
    "## 8. Сравнение моделей: ROC-кривые"
   ]
  },
  {
   "cell_type": "code",
   "execution_count": 8,
   "id": "70020a2c",
   "metadata": {
    "execution": {
     "iopub.execute_input": "2025-06-07T17:54:40.996375Z",
     "iopub.status.busy": "2025-06-07T17:54:40.995971Z",
     "iopub.status.idle": "2025-06-07T17:54:41.312992Z",
     "shell.execute_reply": "2025-06-07T17:54:41.311741Z"
    },
    "papermill": {
     "duration": 0.326132,
     "end_time": "2025-06-07T17:54:41.315371",
     "exception": false,
     "start_time": "2025-06-07T17:54:40.989239",
     "status": "completed"
    },
    "tags": []
   },
   "outputs": [
    {
     "data": {
      "image/png": "[encoded data removed]",
      "text/plain": [
       "<Figure size 1000x600 with 1 Axes>"
      ]
     },
     "metadata": {},
     "output_type": "display_data"
    }
   ],
   "source": [
    "fpr_knn, tpr_knn, _ = roc_curve(y_test, y_pred_proba_knn)\n",
    "roc_auc_knn = auc(fpr_knn, tpr_knn)\n",
    "\n",
    "fpr_rf, tpr_rf, _ = roc_curve(y_test, y_pred_proba_rf)\n",
    "roc_auc_rf = auc(fpr_rf, tpr_rf)\n",
    "\n",
    "plt.figure()\n",
    "plt.plot(fpr_knn, tpr_knn, color='blue', lw=2, label=f'kNN (AUC = {roc_auc_knn:.2f})')\n",
    "plt.plot(fpr_rf, tpr_rf, color='green', lw=2, label=f'Random Forest (AUC = {roc_auc_rf:.2f})')\n",
    "plt.plot([0, 1], [0, 1], color='navy', lw=2, linestyle='--')\n",
    "plt.xlim([0.0, 1.0])\n",
    "plt.ylim([0.0, 1.05])\n",
    "plt.xlabel('False Positive Rate')\n",
    "plt.ylabel('True Positive Rate')\n",
    "plt.title('ROC-кривые для моделей')\n",
    "plt.legend(loc=\"lower right\")\n",
    "plt.show()"
   ]
  },
  {
   "cell_type": "markdown",
   "id": "9d24878e",
   "metadata": {
    "papermill": {
     "duration": 0.00599,
     "end_time": "2025-06-07T17:54:41.327433",
     "exception": false,
     "start_time": "2025-06-07T17:54:41.321443",
     "status": "completed"
    },
    "tags": []
   },
   "source": [
    "## 9. Важность признаков (Random Forest)"
   ]
  },
  {
   "cell_type": "code",
   "execution_count": 9,
   "id": "44f5fedd",
   "metadata": {
    "execution": {
     "iopub.execute_input": "2025-06-07T17:54:41.341397Z",
     "iopub.status.busy": "2025-06-07T17:54:41.340996Z",
     "iopub.status.idle": "2025-06-07T17:54:41.699003Z",
     "shell.execute_reply": "2025-06-07T17:54:41.697838Z"
    },
    "papermill": {
     "duration": 0.368011,
     "end_time": "2025-06-07T17:54:41.701511",
     "exception": false,
     "start_time": "2025-06-07T17:54:41.333500",
     "status": "completed"
    },
    "tags": []
   },
   "outputs": [
    {
     "data": {
      "image/png": "[encoded data removed]",
      "text/plain": [
       "<Figure size 1000x600 with 1 Axes>"
      ]
     },
     "metadata": {},
     "output_type": "display_data"
    }
   ],
   "source": [
    "feature_importance = pd.DataFrame({\n",
    "    'Feature': X.columns,\n",
    "    'Importance': rf.feature_importances_\n",
    "}).sort_values('Importance', ascending=False)\n",
    "\n",
    "plt.figure(figsize=(10, 6))\n",
    "sns.barplot(x='Importance', y='Feature', data=feature_importance)\n",
    "plt.title('Важность признаков (Random Forest)')\n",
    "plt.tight_layout()\n",
    "plt.show()"
   ]
  },
  {
   "cell_type": "markdown",
   "id": "07820692",
   "metadata": {
    "papermill": {
     "duration": 0.00665,
     "end_time": "2025-06-07T17:54:41.714935",
     "exception": false,
     "start_time": "2025-06-07T17:54:41.708285",
     "status": "completed"
    },
    "tags": []
   },
   "source": [
    "# 10. Выводы"
   ]
  },
  {
   "cell_type": "code",
   "execution_count": 10,
   "id": "e6393b92",
   "metadata": {
    "execution": {
     "iopub.execute_input": "2025-06-07T17:54:41.729835Z",
     "iopub.status.busy": "2025-06-07T17:54:41.729405Z",
     "iopub.status.idle": "2025-06-07T17:54:41.740108Z",
     "shell.execute_reply": "2025-06-07T17:54:41.738717Z"
    },
    "papermill": {
     "duration": 0.021282,
     "end_time": "2025-06-07T17:54:41.742792",
     "exception": false,
     "start_time": "2025-06-07T17:54:41.721510",
     "status": "completed"
    },
    "tags": []
   },
   "outputs": [
    {
     "name": "stdout",
     "output_type": "stream",
     "text": [
      "\n",
      "Выводы:\n",
      "1. Обе модели показали хорошие результаты на тестовых данных.\n",
      "2. Точность kNN: 0.7333, Random Forest: 0.8333\n",
      "3. Random Forest показал лучше результаты по AUC (0.74 - kNN, 0.85 - random forest)\n",
      "4. Для класса 0 (отсутствие болезни) обе модели работают хорошо (точность 86-88%)\n",
      "5. Для класса 1 (наличие болезни) результаты хуже (точность 38-60%)\n",
      "6. Random Forest совершил на 3 ошибки меньше (5 vs 2 для класса 0, 3 vs 3 для класса 1)\n",
      "\n",
      "Лучшая модель: Random Forest\n"
     ]
    }
   ],
   "source": [
    "print(\"\\nВыводы:\")\n",
    "print(\"1. Обе модели показали хорошие результаты на тестовых данных.\")\n",
    "print(f\"2. Точность kNN: {accuracy_score(y_test, y_pred_knn):.4f}, Random Forest: {accuracy_score(y_test, y_pred_rf):.4f}\")\n",
    "print(\"3. Random Forest показал лучше результаты по AUC (0.74 - kNN, 0.85 - random forest)\")\n",
    "print(\"4. Для класса 0 (отсутствие болезни) обе модели работают хорошо (точность 86-88%)\")\n",
    "print(\"5. Для класса 1 (наличие болезни) результаты хуже (точность 38-60%)\")\n",
    "print(\"6. Random Forest совершил на 3 ошибки меньше (5 vs 2 для класса 0, 3 vs 3 для класса 1)\")\n",
    "\n",
    "\n",
    "print(\"\\nЛучшая модель: Random Forest\")"
   ]
  }
 ],
 "metadata": {
  "kaggle": {
   "accelerator": "none",
   "dataSources": [
    {
     "datasetId": 5091714,
     "sourceId": 8526559,
     "sourceType": "datasetVersion"
    }
   ],
   "dockerImageVersionId": 30698,
   "isGpuEnabled": false,
   "isInternetEnabled": false,
   "language": "python",
   "sourceType": "notebook"
  },
  "kernelspec": {
   "display_name": "Python 3",
   "language": "python",
   "name": "python3"
  },
  "language_info": {
   "codemirror_mode": {
    "name": "ipython",
    "version": 3
   },
   "file_extension": ".py",
   "mimetype": "text/x-python",
   "name": "python",
   "nbconvert_exporter": "python",
   "pygments_lexer": "ipython3",
   "version": "3.10.13"
  },
  "papermill": {
   "default_parameters": {},
   "duration": 29.920647,
   "end_time": "2025-06-07T17:54:44.371881",
   "environment_variables": {},
   "exception": null,
   "input_path": "__notebook__.ipynb",
   "output_path": "__notebook__.ipynb",
   "parameters": {},
   "start_time": "2025-06-07T17:54:14.451234",
   "version": "2.5.0"
  }
 },
 "nbformat": 4,
 "nbformat_minor": 5
}
